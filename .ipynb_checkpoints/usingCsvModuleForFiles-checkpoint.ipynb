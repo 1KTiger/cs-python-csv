{
 "cells": [
  {
   "cell_type": "markdown",
   "metadata": {},
   "source": [
    "# Using the CSV module for file I/O\n",
    "\n",
    "Python's **csv** module allows you to easily work with **comma separated values** in files\n",
    "\n",
    "CSV files are used to store a large number of variables – or data. They are incredibly simplified spreadsheets – think Excel – only the content is stored in plaintext.\n",
    "\n",
    "And the CSV module is a built-in function that allows Python to parse these types of files.\n",
    "\n",
    "\n",
    "[more info here](http://www.pythonforbeginners.com/systems-programming/using-the-csv-module-in-python/)\n",
    "\n",
    "\n"
   ]
  },
  {
   "cell_type": "markdown",
   "metadata": {},
   "source": [
    "# A csv file\n",
    "\n",
    "The file this sample notebook works with is called **students.csv**\n",
    "\n",
    "Remember the file needs to be in the same folder as the python program in order to access it.\n",
    "\n",
    "You should always use a try/except block around file I/O as missing files or incorrectly named files will result in your program crashing (```  FileNotFound ``` exception) \n",
    "\n",
    "The file looks like this:\n",
    "```\n",
    "Fred,23,34,56\n",
    "Joe,99,45,56\n",
    "Jane,65,34,57\n",
    "Gigi,77,99,12\n",
    "Karla,76,84,45\n",
    "```"
   ]
  },
  {
   "cell_type": "code",
   "execution_count": 2,
   "metadata": {},
   "outputs": [
    {
     "name": "stdout",
     "output_type": "stream",
     "text": [
      "[]\n"
     ]
    }
   ],
   "source": [
    "#import the csv module\n",
    "import csv\n",
    "import os\n",
    "\n",
    "#functions\n",
    "\n",
    "#This function opens the file for reading and reads the file contents into a List of list of Strings. \n",
    "#This list is returned to the calling program\n",
    "\n",
    "def csv_read(filename):\n",
    "    if not os.path.isfile(filename):\n",
    "        return []\n",
    "    \n",
    "    with open(filename) as csv_file:\n",
    "        return list(csv.reader(csv_file))\n",
    "    \n",
    "    return dataList\n",
    "\n",
    "\n",
    "#main program\n",
    "\n",
    "\n",
    "student_grades = csv_read(\"Student Grades.csv\")\n",
    "print(student_grades)"
   ]
  },
  {
   "cell_type": "code",
   "execution_count": 4,
   "metadata": {},
   "outputs": [
    {
     "name": "stdout",
     "output_type": "stream",
     "text": [
      "Name\tMaths\tEng\tSci\n",
      "\n"
     ]
    }
   ],
   "source": [
    "# this function takes as its parameters a list of list (of strings) \n",
    "# and a heading (as a string)\n",
    "# and prints the data in a user friendly table\n",
    "def csv_print(headings, csv_data):\n",
    "    print(\"{}\\n{}\".format(headings, \"\\n\".join(map(\"\\t\".join, csv_data))))\n",
    "    \n",
    "\n",
    "csv_print(\"Name\\tMaths\\tEng\\tSci\", student_grades)"
   ]
  },
  {
   "cell_type": "code",
   "execution_count": 11,
   "metadata": {},
   "outputs": [],
   "source": [
    "#this function takes a list of lists (of strings) and calculates the students average grade\n",
    "#this new data is stored in a new list of lists which is returned to the calling function\n",
    "#def append_average_grades(class_grades):\n",
    "\n",
    "def append_average_grades(class_grades):\n",
    "    def average_grade(student_grades):\n",
    "        grades = list(map(int, student_grades[1:]))\n",
    "        return sum(grades) / len(grades)\n",
    "    \n",
    "    return [student_grades + [\"{:.2f}\".format(average_grade(student_grades))] for student_grades in class_grades]"
   ]
  },
  {
   "cell_type": "code",
   "execution_count": 12,
   "metadata": {},
   "outputs": [
    {
     "name": "stdout",
     "output_type": "stream",
     "text": [
      "[]\n"
     ]
    }
   ],
   "source": [
    "# now print this new list out nicely\n",
    "\n",
    "average_student_grades = append_average_grades(student_grades)\n",
    "print(average_student_grades)"
   ]
  },
  {
   "cell_type": "code",
   "execution_count": 19,
   "metadata": {},
   "outputs": [],
   "source": [
    "def class_average(subject_name, class_grades):\n",
    "    subject_index = {\n",
    "        \"Maths\": 1,\n",
    "        \"English\": 2,\n",
    "        \"Science\": 3\n",
    "    }[subject_name]\n",
    "    \n",
    "    grades = [int(student_grades[subject_index]) for student_grades in class_grades]\n",
    "    \n",
    "    return sum(grades) / len(grades)"
   ]
  },
  {
   "cell_type": "code",
   "execution_count": 18,
   "metadata": {},
   "outputs": [
    {
     "ename": "ZeroDivisionError",
     "evalue": "division by zero",
     "output_type": "error",
     "traceback": [
      "\u001b[0;31m---------------------------------------------------------------------------\u001b[0m",
      "\u001b[0;31mZeroDivisionError\u001b[0m                         Traceback (most recent call last)",
      "\u001b[0;32m<ipython-input-18-25ee39d95998>\u001b[0m in \u001b[0;36m<module>\u001b[0;34m()\u001b[0m\n\u001b[0;32m----> 1\u001b[0;31m \u001b[0mprint\u001b[0m\u001b[0;34m(\u001b[0m\u001b[0mclass_average\u001b[0m\u001b[0;34m(\u001b[0m\u001b[0;34m\"Maths\"\u001b[0m\u001b[0;34m,\u001b[0m \u001b[0mstudent_grades\u001b[0m\u001b[0;34m)\u001b[0m\u001b[0;34m)\u001b[0m\u001b[0;34m\u001b[0m\u001b[0m\n\u001b[0m\u001b[1;32m      2\u001b[0m \u001b[0mprint\u001b[0m\u001b[0;34m(\u001b[0m\u001b[0mclass_average\u001b[0m\u001b[0;34m(\u001b[0m\u001b[0;34m\"English\"\u001b[0m\u001b[0;34m,\u001b[0m \u001b[0mstudent_grades\u001b[0m\u001b[0;34m)\u001b[0m\u001b[0;34m)\u001b[0m\u001b[0;34m\u001b[0m\u001b[0m\n\u001b[1;32m      3\u001b[0m \u001b[0mprint\u001b[0m\u001b[0;34m(\u001b[0m\u001b[0mclass_average\u001b[0m\u001b[0;34m(\u001b[0m\u001b[0;34m\"Science\"\u001b[0m\u001b[0;34m,\u001b[0m \u001b[0mstudent_grades\u001b[0m\u001b[0;34m)\u001b[0m\u001b[0;34m)\u001b[0m\u001b[0;34m\u001b[0m\u001b[0m\n\u001b[1;32m      4\u001b[0m \u001b[0;34m\u001b[0m\u001b[0m\n",
      "\u001b[0;32m<ipython-input-17-66cba2ef5d7b>\u001b[0m in \u001b[0;36mclass_average\u001b[0;34m(subject_name, class_grades)\u001b[0m\n\u001b[1;32m      9\u001b[0m     \u001b[0mgrades\u001b[0m \u001b[0;34m=\u001b[0m \u001b[0;34m[\u001b[0m\u001b[0mint\u001b[0m\u001b[0;34m(\u001b[0m\u001b[0mstudent_grades\u001b[0m\u001b[0;34m[\u001b[0m\u001b[0msubject_index\u001b[0m\u001b[0;34m]\u001b[0m\u001b[0;34m)\u001b[0m \u001b[0;32mfor\u001b[0m \u001b[0mstudent_grades\u001b[0m \u001b[0;32min\u001b[0m \u001b[0mclass_grades\u001b[0m\u001b[0;34m]\u001b[0m\u001b[0;34m\u001b[0m\u001b[0m\n\u001b[1;32m     10\u001b[0m \u001b[0;34m\u001b[0m\u001b[0m\n\u001b[0;32m---> 11\u001b[0;31m     \u001b[0;32mreturn\u001b[0m \u001b[0msum\u001b[0m\u001b[0;34m(\u001b[0m\u001b[0mgrades\u001b[0m\u001b[0;34m)\u001b[0m \u001b[0;34m/\u001b[0m \u001b[0mlen\u001b[0m\u001b[0;34m(\u001b[0m\u001b[0mgrades\u001b[0m\u001b[0;34m)\u001b[0m\u001b[0;34m\u001b[0m\u001b[0m\n\u001b[0m",
      "\u001b[0;31mZeroDivisionError\u001b[0m: division by zero"
     ]
    }
   ],
   "source": [
    "print(class_average(\"Maths\", student_grades))\n",
    "print(class_average(\"English\", student_grades))\n",
    "print(class_average(\"Science\", student_grades))\n",
    "\n"
   ]
  }
 ],
 "metadata": {
  "kernelspec": {
   "display_name": "Python 3",
   "language": "python",
   "name": "python3"
  },
  "language_info": {
   "codemirror_mode": {
    "name": "ipython",
    "version": 3
   },
   "file_extension": ".py",
   "mimetype": "text/x-python",
   "name": "python",
   "nbconvert_exporter": "python",
   "pygments_lexer": "ipython3",
   "version": "3.5.2"
  }
 },
 "nbformat": 4,
 "nbformat_minor": 2
}
